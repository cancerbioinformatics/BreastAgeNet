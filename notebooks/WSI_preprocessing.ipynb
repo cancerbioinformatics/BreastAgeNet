{
 "cells": [
  {
   "cell_type": "markdown",
   "id": "b1c2cfc9-4ffb-4583-9193-63a0fee0dbce",
   "metadata": {},
   "source": [
    "# WSI pre-processing "
   ]
  },
  {
   "cell_type": "markdown",
   "id": "7759d9b9-deb5-4e81-afc6-2f502f552089",
   "metadata": {},
   "source": [
    "## 1.1 obtain classified patches for each WSI\n",
    "\n",
    "Please refer to https://github.com/choosehappy/HistoQC to install HistoQC and then run the following:\n",
    "\n",
    "python -m histoqc -c v2.1 -n 3 \"/scratch_tmp/prj/cb_normalbreast/prj_BreastAgeNet/WSIs/NKI/*.mrxs\" -o \"/scratch_tmp/prj/cb_normalbreast/prj_BreastAgeNet/QCs/NKI\"\n",
    "\n",
    "This outputs a _mask_use.png file that contains the detected foreground tissue regions\n",
    "\n",
    "\n",
    "Then refer to https://github.com/cancerbioinformatics/NBT-Classifier to obtain classified patches for each WSI and then run the following:\n",
    "\n",
    "python main.py \\\n",
    "  --wsi_folder /scratch_tmp/prj/cb_normalbreast/prj_BreastAgeNet/WSIs/NKI \\\n",
    "  --mask_folder /scratch_tmp/prj/cb_normalbreast/prj_BreastAgeNet/QCs/NKI \\\n",
    "  --output_folder /scratch_tmp/prj/cb_normalbreast/prj_BreastAgeNet/FEATURES/NKI \\\n",
    "  --model_type TC_512 \\\n",
    "  --patch_size_microns 128 \\\n",
    "  --roi_width 250\n",
    "  \n",
    "This outputs a slide1_TC_512_patch.csv file that contains the detected and classified patches."
   ]
  },
  {
   "cell_type": "markdown",
   "id": "f0171a1d-b6c1-4859-80c3-4043bb58e730",
   "metadata": {},
   "source": [
    "## 1.2 extract features from patches using pre-trained models\n",
    "\n",
    "Please run the following\n",
    "\n",
    "python extractFeatures.py --model UNI --stain augmentation --cohort NKI"
   ]
  },
  {
   "cell_type": "markdown",
   "id": "f8545712-229c-45cc-b0d2-a7e6616f3f23",
   "metadata": {},
   "source": [
    "## 1.3 clean data\n",
    "The following step further clean the data by removing invalid slides that either failed to obtain features or contain epithelium patches (with a confidence higher than 0.9) less than 5."
   ]
  },
  {
   "cell_type": "code",
   "execution_count": 23,
   "id": "32fa66f2-a629-4d74-b085-1fffa231e4e7",
   "metadata": {},
   "outputs": [],
   "source": [
    "import os\n",
    "import h5py\n",
    "import glob\n",
    "import numpy as np\n",
    "import pandas as pd\n",
    "from pathlib import Path\n",
    "from utils_model import add_ageGroup, parse_wsi_id\n",
    "\n",
    "\n",
    "def print_summary(df):\n",
    "    df[\"patient_id\"] = df[\"patient_id\"].astype(str)\n",
    "    print(f\"Number of unique WSI IDs: {df['wsi_id'].nunique()}\")\n",
    "    print(f\"Number of unique patient IDs: {df['patient_id'].nunique()}\")\n",
    "    print(f\"Overall age range: {df['age'].min()} - {df['age'].max()}\")\n",
    "        \n",
    "    age_groups, counts = np.unique(df[\"age_group\"], return_counts=True)\n",
    "    print(\"Unique age groups and counts:\", dict(zip(age_groups, counts)))\n",
    "    print(\"\\nAge range per cohort:\")\n",
    "    \n",
    "    for cohort, group in df.groupby(\"cohort\"):\n",
    "        print(f\"  {cohort}: {group['age'].min()} - {group['age'].max()}\")\n",
    "    \n",
    "    df = df.groupby([\"age_group\", \"cohort\"]).agg(\n",
    "        num_patients=(\"patient_id\", \"nunique\"),\n",
    "        num_wsis=(\"wsi_id\", \"nunique\")\n",
    "    ).reset_index()\n",
    "    \n",
    "    pivot_df = df.pivot(index=\"cohort\", columns=\"age_group\", values=[\"num_wsis\", \"num_patients\"])\n",
    "    formatted_df = pivot_df.apply(lambda x: x[\"num_wsis\"].astype(str) + \"/\" + x[\"num_patients\"].astype(str), axis=1)\n",
    "    formatted_df[\"Total\"] = df.groupby(\"cohort\")[\"num_wsis\"].sum().astype(str) + \"/\" + df.groupby(\"cohort\")[\"num_patients\"].sum().astype(str)\n",
    "    col_sum_wsis = df.groupby(\"age_group\")[\"num_wsis\"].sum()\n",
    "    col_sum_patients = df.groupby(\"age_group\")[\"num_patients\"].sum()\n",
    "    formatted_df.loc[\"Total\"] = col_sum_wsis.astype(str) + \"/\" + col_sum_patients.astype(str)\n",
    "    formatted_df.loc[\"Total\", \"Total\"] = df[\"num_wsis\"].sum().astype(str) + \"/\" + df[\"num_patients\"].sum().astype(str)\n",
    "    print(formatted_df)\n",
    "\n",
    "    \n",
    "    \n",
    "def clean_data(meta_pt, FEATURES, model_name=\"UNI\", stainFunc=\"reinhard\"):\n",
    "    clinic_df = pd.read_csv(meta_pt)\n",
    "    clinic_df = add_ageGroup(clinic_df)\n",
    "    \n",
    "    print(\"-\" * 30)\n",
    "    print(\"filtering features...\")\n",
    "    h5_dict = {\"wsi_id\": [], \"h5df\": []} \n",
    "    for wsi_id in list(clinic_df[\"wsi_id\"]):\n",
    "        file = glob.glob(f'{FEATURES}/*/{wsi_id}*/{wsi_id}*{model_name}*{stainFunc}*.h5')\n",
    "        if file:\n",
    "            for i in file:\n",
    "                h5_dict[\"wsi_id\"].append(i.split(\"/\")[-2])\n",
    "                h5_dict[\"h5df\"].append(i)  \n",
    "                \n",
    "    h5_df = pd.DataFrame(h5_dict)  \n",
    "    clinic_df = clinic_df.merge(h5_df, on=\"wsi_id\", how=\"right\")  \n",
    "\n",
    "    valid_wsi = []\n",
    "    valid_patches = []\n",
    "    for fea_pt in clinic_df[\"h5df\"]: \n",
    "        with h5py.File(fea_pt, \"r\") as file:\n",
    "            bag = np.array(file[\"embeddings\"])\n",
    "            bag = np.squeeze(bag)\n",
    "            img_id = np.array(file[\"patch_id\"])\n",
    "        img_id = [i.decode(\"utf-8\") for i in img_id]\n",
    "        bag_df = pd.DataFrame(bag)\n",
    "        bag_df.index = img_id\n",
    "    \n",
    "        csv_pt = glob.glob(f\"{fea_pt.split('_bagFeature_')[0]}*patch.csv\")[0]\n",
    "        df = pd.read_csv(csv_pt)\n",
    "    \n",
    "        valid_id = list(df['patch_id'][df['TC_epi'] > 0.9])\n",
    "        valid_id = list(set(valid_id) & set(bag_df.index))\n",
    "        valid_patches.extend(valid_id)\n",
    "        if valid_id:\n",
    "            wsi_id = parse_wsi_id(valid_id[0])\n",
    "            valid_wsi.extend([wsi_id] * len(valid_id))\n",
    "    \n",
    "    a, b = np.unique(valid_wsi, return_counts=True)\n",
    "    filtered_a = [i for i, count in zip(a, b) if count >= 5]\n",
    "    \n",
    "    print(\"-\" * 30)\n",
    "    print(\"filtering patches...\")\n",
    "    clinic_df = clinic_df[clinic_df[\"wsi_id\"].isin(filtered_a)].copy()\n",
    "    clinic_df[\"h5df\"] = [Path(i) for i in list(clinic_df[\"h5df\"])]\n",
    "\n",
    "    return clinic_df"
   ]
  },
  {
   "cell_type": "code",
   "execution_count": 39,
   "id": "4fb0f579-c468-4115-9dab-257d66a8a180",
   "metadata": {},
   "outputs": [
    {
     "name": "stdout",
     "output_type": "stream",
     "text": [
      "Number of unique WSI IDs: 747\n",
      "Number of unique patient IDs: 747\n",
      "Overall age range: 19 - 90\n",
      "Unique age groups and counts: {0: 225, 1: 180, 2: 157, 3: 185}\n",
      "\n",
      "Age range per cohort:\n",
      "  SGK: 19 - 90\n",
      "age_group        0        1        2        3    Total\n",
      "cohort                                                \n",
      "SGK        225/225  180/180  157/157  185/185  747/747\n",
      "Total      225/225  180/180  157/157  185/185  747/747\n"
     ]
    }
   ],
   "source": [
    "FEATURES = \"/scratch_tmp/prj/cb_normalbreast/prj_BreastAgeNet/FEATURES\"\n",
    "meta_pt = \"/scratch_tmp/prj/cb_normalbreast/prj_BreastAgeNet/Metadata/train_NR.csv\"\n",
    "train_df = clean_data(meta_pt, FEATURES)\n",
    "print_summary(train_df)\n",
    "train_df.to_csv(\"/scratch_tmp/prj/cb_normalbreast/prj_BreastAgeNet/Metadata/train_NR_clean.csv\", index=False)"
   ]
  },
  {
   "cell_type": "code",
   "execution_count": 40,
   "id": "bc4b6c2d-2e72-4b81-ab39-732385fb2c76",
   "metadata": {},
   "outputs": [
    {
     "name": "stdout",
     "output_type": "stream",
     "text": [
      "Number of unique WSI IDs: 131\n",
      "Number of unique patient IDs: 45\n",
      "Overall age range: 17 - 73\n",
      "Unique age groups and counts: {0: 69, 1: 29, 2: 14, 3: 19}\n",
      "\n",
      "Age range per cohort:\n",
      "  BCI: 31 - 31\n",
      "  EPFL: 17 - 39\n",
      "  KHP: 22 - 73\n",
      "age_group          0         1         2         3   Total\n",
      "cohort                                                    \n",
      "BCI          1.0/1.0   nan/nan   nan/nan   nan/nan     1/1\n",
      "EPFL         8.0/8.0   1.0/1.0   nan/nan   nan/nan     9/9\n",
      "KHP        60.0/18.0  28.0/8.0  14.0/4.0  19.0/5.0  121/35\n",
      "Total          69/27      29/9      14/4      19/5  131/45\n"
     ]
    }
   ],
   "source": [
    "FEATURES = \"/scratch_tmp/prj/cb_normalbreast/prj_BreastAgeNet/FEATURES\"\n",
    "meta_pt = \"/scratch_tmp/prj/cb_normalbreast/prj_BreastAgeNet/Metadata/test_NR.csv\"\n",
    "NR_df = clean_data(meta_pt, FEATURES, model_name=\"UNI\", stainFunc=\"augmentation\")\n",
    "print_summary(NR_df)\n",
    "NR_df.to_csv(\"/scratch_tmp/prj/cb_normalbreast/prj_BreastAgeNet/Metadata/test_NR_clean.csv\", index=False)"
   ]
  },
  {
   "cell_type": "code",
   "execution_count": 41,
   "id": "c44687fa-4b31-40d8-bd28-adf610bc9bb9",
   "metadata": {},
   "outputs": [
    {
     "name": "stdout",
     "output_type": "stream",
     "text": [
      "Number of unique WSI IDs: 250\n",
      "Number of unique patient IDs: 143\n",
      "Overall age range: 20 - 58\n",
      "Unique age groups and counts: {0: 122, 1: 93, 2: 19, 3: 16}\n",
      "\n",
      "Age range per cohort:\n",
      "  BCI: 20 - 56\n",
      "  KHP: 27 - 58\n",
      "  NKI: 21 - 58\n",
      "age_group       0      1      2     3    Total\n",
      "cohort                                        \n",
      "BCI           4/4    1/1    3/3   1/1      9/9\n",
      "KHP         77/27  72/28   10/4  13/6   172/65\n",
      "NKI         41/41  20/20    6/6   2/2    69/69\n",
      "Total      122/72  93/49  19/13  16/9  250/143\n"
     ]
    }
   ],
   "source": [
    "FEATURES = \"/scratch_tmp/prj/cb_normalbreast/prj_BreastAgeNet/FEATURES\"\n",
    "meta_pt = \"/scratch_tmp/prj/cb_normalbreast/prj_BreastAgeNet/Metadata/test_BRCA.csv\"\n",
    "BRCA_df = clean_data(meta_pt, FEATURES, model_name=\"UNI\", stainFunc=\"augmentation\")\n",
    "print_summary(BRCA_df)\n",
    "BRCA_df.to_csv(\"/scratch_tmp/prj/cb_normalbreast/prj_BreastAgeNet/Metadata/test_BRCA_clean.csv\", index=False)"
   ]
  }
 ],
 "metadata": {
  "kernelspec": {
   "display_name": "PyTorch Environment",
   "language": "python",
   "name": "torch-env"
  },
  "language_info": {
   "codemirror_mode": {
    "name": "ipython",
    "version": 3
   },
   "file_extension": ".py",
   "mimetype": "text/x-python",
   "name": "python",
   "nbconvert_exporter": "python",
   "pygments_lexer": "ipython3",
   "version": "3.10.16"
  }
 },
 "nbformat": 4,
 "nbformat_minor": 5
}
